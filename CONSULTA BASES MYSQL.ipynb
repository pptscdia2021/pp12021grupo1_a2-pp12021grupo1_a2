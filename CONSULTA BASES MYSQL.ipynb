{
 "cells": [
  {
   "cell_type": "markdown",
   "metadata": {},
   "source": [
    "# REALIZAMOS UNAS MODIFICACIONES AL EJEMPLO DE CONEXION PARA PODER MEDIR LOS RETARDOS EN DISTINTAS CONSULTAS"
   ]
  },
  {
   "cell_type": "code",
   "execution_count": 22,
   "metadata": {},
   "outputs": [],
   "source": [
    "import pymysql\n",
    "import time\n",
    "import pandas as pd\n",
    "\n",
    "def consulta_test(consulta):\n",
    "    try:\n",
    "        conexion = pymysql.connect(host='localhost',\n",
    "                             user='root',\n",
    "                             password='',\n",
    "                             db='employees')\n",
    "    \n",
    "        try:\n",
    "            with conexion.cursor() as cursor:\n",
    "                # En este caso no necesitamos limpiar ningún dato\n",
    "                inicio_consulta=time.time()\n",
    "                print(consulta)\n",
    "                cursor.execute(consulta)\n",
    " \n",
    "                # Con fetchall traemos todas las filas\n",
    "                fin_consulta=time.time()\n",
    "                inicio_obtener_filas=time.time()\n",
    "                salida = cursor.fetchall()\n",
    "            \n",
    "                fin_obtener_filas=time.time()\n",
    "                titulos=[]\n",
    "            # Recorrer e imprimir\n",
    "          \n",
    "          \n",
    "                print(\"------------\")\n",
    "                print(\"TIEMPO PARA EJECUTAR CONSULTA: \"+str(fin_consulta-inicio_consulta))\n",
    "                print(\"TIEMPO PARA DEVOLVER FILAS: \"+str(fin_obtener_filas-inicio_obtener_filas))\n",
    "                print(\"CANTIDAD DE FILAS: \"+str(len(salida)))\n",
    "                print(\"------------\")\n",
    "                \n",
    "             \n",
    "                \n",
    "                return salida\n",
    "        finally:\n",
    "            conexion.close()\n",
    "    \n",
    "    except (pymysql.err.OperationalError, pymysql.err.InternalError) as e:\n",
    "        print(\"Ocurrió un error al conectar: \", e)\n",
    "    \n",
    "    "
   ]
  },
  {
   "cell_type": "code",
   "execution_count": 30,
   "metadata": {},
   "outputs": [
    {
     "name": "stdout",
     "output_type": "stream",
     "text": [
      "CONSULTA: SELECT * FROM employees \n",
      "SELECT * FROM employees  ;\n",
      "------------\n",
      "TIEMPO PARA EJECUTAR CONSULTA: 8.811847686767578\n",
      "TIEMPO PARA DEVOLVER FILAS: 0.0\n",
      "CANTIDAD DE FILAS: 300024\n",
      "------------\n",
      "CONSULTA: SELECT * FROM salaries \n",
      "SELECT * FROM salaries  ;\n",
      "------------\n",
      "TIEMPO PARA EJECUTAR CONSULTA: 58.98039889335632\n",
      "TIEMPO PARA DEVOLVER FILAS: 0.0\n",
      "CANTIDAD DE FILAS: 2844047\n",
      "------------\n",
      "CONSULTA: SELECT * FROM departments \n",
      "SELECT * FROM departments  ;\n",
      "------------\n",
      "TIEMPO PARA EJECUTAR CONSULTA: 0.017551898956298828\n",
      "TIEMPO PARA DEVOLVER FILAS: 0.0\n",
      "CANTIDAD DE FILAS: 10\n",
      "------------\n"
     ]
    },
    {
     "data": {
      "text/plain": [
       "(('d010', 'Ciencia de Datos'),\n",
       " ('d009', 'Customer Service'),\n",
       " ('d005', 'Development'),\n",
       " ('d002', 'Finance'),\n",
       " ('d003', 'Human Resources'),\n",
       " ('d001', 'Marketing'),\n",
       " ('d004', 'Production'),\n",
       " ('d006', 'Quality Management'),\n",
       " ('d008', 'Research'),\n",
       " ('d007', 'Sales'))"
      ]
     },
     "execution_count": 30,
     "metadata": {},
     "output_type": "execute_result"
    }
   ],
   "source": [
    "print(\"CONSULTA: SELECT * FROM employees \")\n",
    "consulta_test(\"SELECT * FROM employees  ;\")\n",
    "\n",
    "print(\"CONSULTA: SELECT * FROM salaries \")\n",
    "consulta_test(\"SELECT * FROM salaries  ;\")\n",
    "\n",
    "print(\"CONSULTA: SELECT * FROM departments \")\n",
    "consulta_test(\"SELECT * FROM departments  ;\")"
   ]
  },
  {
   "cell_type": "markdown",
   "metadata": {},
   "source": [
    "Como se puede apreciar el volumen de filas es lo que lleva al incremento en el tiempo de respuesta, si bien esto depende igualmente del entorno, el equipo y la configuracion que se este utilizando, la variable tiempo esta directamente relacionada a la cantidad de filas de la consulta"
   ]
  },
  {
   "cell_type": "markdown",
   "metadata": {},
   "source": [
    "# Base de datos Parcial Sql, NoSql - Python - Fecha:07/06/2021"
   ]
  },
  {
   "cell_type": "markdown",
   "metadata": {},
   "source": [
    "Nombre y Apellido: SEBASTIAN ARIEL MERAGELMAN \n",
    "\n"
   ]
  },
  {
   "cell_type": "markdown",
   "metadata": {},
   "source": [
    "Tomando como base el diagrama entidad relación de la figura superior, responder\n",
    "escribir las sentencias en sql\n",
    "\n",
    "1er Ejercicio\n",
    "Obtener los datos completos de los empleados.\n"
   ]
  },
  {
   "cell_type": "code",
   "execution_count": 7,
   "metadata": {},
   "outputs": [
    {
     "name": "stdout",
     "output_type": "stream",
     "text": [
      "------------\n",
      "TIEMPO PARA EJECUTAR CONSULTA: 6.249678134918213\n",
      "TIEMPO PARA DEVOLVER FILAS: 0.0\n",
      "CANTIDAD DE FILAS: 300024\n",
      "------------\n"
     ]
    },
    {
     "data": {
      "text/html": [
       "<div>\n",
       "<style scoped>\n",
       "    .dataframe tbody tr th:only-of-type {\n",
       "        vertical-align: middle;\n",
       "    }\n",
       "\n",
       "    .dataframe tbody tr th {\n",
       "        vertical-align: top;\n",
       "    }\n",
       "\n",
       "    .dataframe thead th {\n",
       "        text-align: right;\n",
       "    }\n",
       "</style>\n",
       "<table border=\"1\" class=\"dataframe\">\n",
       "  <thead>\n",
       "    <tr style=\"text-align: right;\">\n",
       "      <th></th>\n",
       "      <th>N empleado</th>\n",
       "      <th>Nacimiento</th>\n",
       "      <th>Nombre</th>\n",
       "      <th>Apellido</th>\n",
       "      <th>Sexo</th>\n",
       "      <th>Inicio</th>\n",
       "    </tr>\n",
       "  </thead>\n",
       "  <tbody>\n",
       "    <tr>\n",
       "      <th>0</th>\n",
       "      <td>10001</td>\n",
       "      <td>1953-09-02</td>\n",
       "      <td>Georgi</td>\n",
       "      <td>Facello</td>\n",
       "      <td>M</td>\n",
       "      <td>1986-06-26</td>\n",
       "    </tr>\n",
       "    <tr>\n",
       "      <th>1</th>\n",
       "      <td>10002</td>\n",
       "      <td>1964-06-02</td>\n",
       "      <td>Bezalel</td>\n",
       "      <td>Simmel</td>\n",
       "      <td>F</td>\n",
       "      <td>1985-11-21</td>\n",
       "    </tr>\n",
       "    <tr>\n",
       "      <th>2</th>\n",
       "      <td>10003</td>\n",
       "      <td>1959-12-03</td>\n",
       "      <td>Parto</td>\n",
       "      <td>Bamford</td>\n",
       "      <td>M</td>\n",
       "      <td>1986-08-28</td>\n",
       "    </tr>\n",
       "    <tr>\n",
       "      <th>3</th>\n",
       "      <td>10004</td>\n",
       "      <td>1954-05-01</td>\n",
       "      <td>Chirstian</td>\n",
       "      <td>Koblick</td>\n",
       "      <td>M</td>\n",
       "      <td>1986-12-01</td>\n",
       "    </tr>\n",
       "    <tr>\n",
       "      <th>4</th>\n",
       "      <td>10005</td>\n",
       "      <td>1955-01-21</td>\n",
       "      <td>Kyoichi</td>\n",
       "      <td>Maliniak</td>\n",
       "      <td>M</td>\n",
       "      <td>1989-09-12</td>\n",
       "    </tr>\n",
       "    <tr>\n",
       "      <th>...</th>\n",
       "      <td>...</td>\n",
       "      <td>...</td>\n",
       "      <td>...</td>\n",
       "      <td>...</td>\n",
       "      <td>...</td>\n",
       "      <td>...</td>\n",
       "    </tr>\n",
       "    <tr>\n",
       "      <th>300019</th>\n",
       "      <td>499995</td>\n",
       "      <td>1958-09-24</td>\n",
       "      <td>Dekang</td>\n",
       "      <td>Lichtner</td>\n",
       "      <td>F</td>\n",
       "      <td>1993-01-12</td>\n",
       "    </tr>\n",
       "    <tr>\n",
       "      <th>300020</th>\n",
       "      <td>499996</td>\n",
       "      <td>1953-03-07</td>\n",
       "      <td>Zito</td>\n",
       "      <td>Baaz</td>\n",
       "      <td>M</td>\n",
       "      <td>1990-09-27</td>\n",
       "    </tr>\n",
       "    <tr>\n",
       "      <th>300021</th>\n",
       "      <td>499997</td>\n",
       "      <td>1961-08-03</td>\n",
       "      <td>Berhard</td>\n",
       "      <td>Lenart</td>\n",
       "      <td>M</td>\n",
       "      <td>1986-04-21</td>\n",
       "    </tr>\n",
       "    <tr>\n",
       "      <th>300022</th>\n",
       "      <td>499998</td>\n",
       "      <td>1956-09-05</td>\n",
       "      <td>Patricia</td>\n",
       "      <td>Breugel</td>\n",
       "      <td>M</td>\n",
       "      <td>1993-10-13</td>\n",
       "    </tr>\n",
       "    <tr>\n",
       "      <th>300023</th>\n",
       "      <td>499999</td>\n",
       "      <td>1958-05-01</td>\n",
       "      <td>Sachin</td>\n",
       "      <td>Tsukuda</td>\n",
       "      <td>M</td>\n",
       "      <td>1997-11-30</td>\n",
       "    </tr>\n",
       "  </tbody>\n",
       "</table>\n",
       "<p>300024 rows × 6 columns</p>\n",
       "</div>"
      ],
      "text/plain": [
       "        N empleado  Nacimiento     Nombre  Apellido Sexo      Inicio\n",
       "0            10001  1953-09-02     Georgi   Facello    M  1986-06-26\n",
       "1            10002  1964-06-02    Bezalel    Simmel    F  1985-11-21\n",
       "2            10003  1959-12-03      Parto   Bamford    M  1986-08-28\n",
       "3            10004  1954-05-01  Chirstian   Koblick    M  1986-12-01\n",
       "4            10005  1955-01-21    Kyoichi  Maliniak    M  1989-09-12\n",
       "...            ...         ...        ...       ...  ...         ...\n",
       "300019      499995  1958-09-24     Dekang  Lichtner    F  1993-01-12\n",
       "300020      499996  1953-03-07       Zito      Baaz    M  1990-09-27\n",
       "300021      499997  1961-08-03    Berhard    Lenart    M  1986-04-21\n",
       "300022      499998  1956-09-05   Patricia   Breugel    M  1993-10-13\n",
       "300023      499999  1958-05-01     Sachin   Tsukuda    M  1997-11-30\n",
       "\n",
       "[300024 rows x 6 columns]"
      ]
     },
     "execution_count": 7,
     "metadata": {},
     "output_type": "execute_result"
    }
   ],
   "source": [
    "empleados=consulta_test(\"SELECT * FROM employees  ;\")\n",
    "\n",
    "titulos=[\"N empleado\",\"Nacimiento\",\"Nombre\",\"Apellido\",\"Sexo\",\"Inicio\"]\n",
    "pd.DataFrame(empleados,columns=titulos)\n",
    "\n",
    "\n",
    "\n"
   ]
  },
  {
   "cell_type": "code",
   "execution_count": null,
   "metadata": {},
   "outputs": [],
   "source": []
  },
  {
   "cell_type": "markdown",
   "metadata": {},
   "source": [
    "2do Ejercicio\n",
    "Obtener los datos completos de los departamentos"
   ]
  },
  {
   "cell_type": "code",
   "execution_count": 8,
   "metadata": {},
   "outputs": [
    {
     "name": "stdout",
     "output_type": "stream",
     "text": [
      "------------\n",
      "TIEMPO PARA EJECUTAR CONSULTA: 0.0007948875427246094\n",
      "TIEMPO PARA DEVOLVER FILAS: 0.0\n",
      "CANTIDAD DE FILAS: 9\n",
      "------------\n"
     ]
    },
    {
     "data": {
      "text/html": [
       "<div>\n",
       "<style scoped>\n",
       "    .dataframe tbody tr th:only-of-type {\n",
       "        vertical-align: middle;\n",
       "    }\n",
       "\n",
       "    .dataframe tbody tr th {\n",
       "        vertical-align: top;\n",
       "    }\n",
       "\n",
       "    .dataframe thead th {\n",
       "        text-align: right;\n",
       "    }\n",
       "</style>\n",
       "<table border=\"1\" class=\"dataframe\">\n",
       "  <thead>\n",
       "    <tr style=\"text-align: right;\">\n",
       "      <th></th>\n",
       "      <th>Id</th>\n",
       "      <th>Nombre</th>\n",
       "    </tr>\n",
       "  </thead>\n",
       "  <tbody>\n",
       "    <tr>\n",
       "      <th>0</th>\n",
       "      <td>d009</td>\n",
       "      <td>Customer Service</td>\n",
       "    </tr>\n",
       "    <tr>\n",
       "      <th>1</th>\n",
       "      <td>d005</td>\n",
       "      <td>Development</td>\n",
       "    </tr>\n",
       "    <tr>\n",
       "      <th>2</th>\n",
       "      <td>d002</td>\n",
       "      <td>Finance</td>\n",
       "    </tr>\n",
       "    <tr>\n",
       "      <th>3</th>\n",
       "      <td>d003</td>\n",
       "      <td>Human Resources</td>\n",
       "    </tr>\n",
       "    <tr>\n",
       "      <th>4</th>\n",
       "      <td>d001</td>\n",
       "      <td>Marketing</td>\n",
       "    </tr>\n",
       "    <tr>\n",
       "      <th>5</th>\n",
       "      <td>d004</td>\n",
       "      <td>Production</td>\n",
       "    </tr>\n",
       "    <tr>\n",
       "      <th>6</th>\n",
       "      <td>d006</td>\n",
       "      <td>Quality Management</td>\n",
       "    </tr>\n",
       "    <tr>\n",
       "      <th>7</th>\n",
       "      <td>d008</td>\n",
       "      <td>Research</td>\n",
       "    </tr>\n",
       "    <tr>\n",
       "      <th>8</th>\n",
       "      <td>d007</td>\n",
       "      <td>Sales</td>\n",
       "    </tr>\n",
       "  </tbody>\n",
       "</table>\n",
       "</div>"
      ],
      "text/plain": [
       "     Id              Nombre\n",
       "0  d009    Customer Service\n",
       "1  d005         Development\n",
       "2  d002             Finance\n",
       "3  d003     Human Resources\n",
       "4  d001           Marketing\n",
       "5  d004          Production\n",
       "6  d006  Quality Management\n",
       "7  d008            Research\n",
       "8  d007               Sales"
      ]
     },
     "execution_count": 8,
     "metadata": {},
     "output_type": "execute_result"
    }
   ],
   "source": [
    "\n",
    "departamentos=consulta_test(\"SELECT * FROM departments  ;\")\n",
    "\n",
    "titulos=[\"Id\",\"Nombre\"]\n",
    "pd.DataFrame(departamentos,columns=titulos)\n"
   ]
  },
  {
   "cell_type": "markdown",
   "metadata": {},
   "source": [
    "3er Ejercicio\n",
    "Obtener la cantidad de empleados de sexo femnino."
   ]
  },
  {
   "cell_type": "code",
   "execution_count": 10,
   "metadata": {},
   "outputs": [
    {
     "name": "stdout",
     "output_type": "stream",
     "text": [
      "------------\n",
      "TIEMPO PARA EJECUTAR CONSULTA: 0.07598590850830078\n",
      "TIEMPO PARA DEVOLVER FILAS: 0.0\n",
      "CANTIDAD DE FILAS: 1\n",
      "------------\n"
     ]
    },
    {
     "data": {
      "text/html": [
       "<div>\n",
       "<style scoped>\n",
       "    .dataframe tbody tr th:only-of-type {\n",
       "        vertical-align: middle;\n",
       "    }\n",
       "\n",
       "    .dataframe tbody tr th {\n",
       "        vertical-align: top;\n",
       "    }\n",
       "\n",
       "    .dataframe thead th {\n",
       "        text-align: right;\n",
       "    }\n",
       "</style>\n",
       "<table border=\"1\" class=\"dataframe\">\n",
       "  <thead>\n",
       "    <tr style=\"text-align: right;\">\n",
       "      <th></th>\n",
       "      <th>Cantidad</th>\n",
       "      <th>Sexo</th>\n",
       "    </tr>\n",
       "  </thead>\n",
       "  <tbody>\n",
       "    <tr>\n",
       "      <th>0</th>\n",
       "      <td>120051</td>\n",
       "      <td>F</td>\n",
       "    </tr>\n",
       "  </tbody>\n",
       "</table>\n",
       "</div>"
      ],
      "text/plain": [
       "   Cantidad Sexo\n",
       "0    120051    F"
      ]
     },
     "execution_count": 10,
     "metadata": {},
     "output_type": "execute_result"
    }
   ],
   "source": [
    "empleados=consulta_test(\"SELECT count(gender) as Cantidad,gender FROM employees where gender =\\\"F\\\"  ;\")\n",
    "\n",
    "titulos=[\"Cantidad\",\"Sexo\"]\n",
    "pd.DataFrame(empleados,columns=titulos)"
   ]
  },
  {
   "cell_type": "markdown",
   "metadata": {},
   "source": [
    "4to Ejercicio\n",
    "Obtener los empleados que son o han sido \"staff\". Recordar que es una consulta multi tablas."
   ]
  },
  {
   "cell_type": "code",
   "execution_count": 13,
   "metadata": {},
   "outputs": [
    {
     "name": "stdout",
     "output_type": "stream",
     "text": [
      "------------\n",
      "TIEMPO PARA EJECUTAR CONSULTA: 6.0372114181518555\n",
      "TIEMPO PARA DEVOLVER FILAS: 0.0\n",
      "CANTIDAD DE FILAS: 200244\n",
      "------------\n"
     ]
    },
    {
     "data": {
      "text/html": [
       "<div>\n",
       "<style scoped>\n",
       "    .dataframe tbody tr th:only-of-type {\n",
       "        vertical-align: middle;\n",
       "    }\n",
       "\n",
       "    .dataframe tbody tr th {\n",
       "        vertical-align: top;\n",
       "    }\n",
       "\n",
       "    .dataframe thead th {\n",
       "        text-align: right;\n",
       "    }\n",
       "</style>\n",
       "<table border=\"1\" class=\"dataframe\">\n",
       "  <thead>\n",
       "    <tr style=\"text-align: right;\">\n",
       "      <th></th>\n",
       "      <th>N Empl</th>\n",
       "      <th>Nombre</th>\n",
       "      <th>Apellido</th>\n",
       "      <th>Sexo</th>\n",
       "    </tr>\n",
       "  </thead>\n",
       "  <tbody>\n",
       "    <tr>\n",
       "      <th>0</th>\n",
       "      <td>10002</td>\n",
       "      <td>Bezalel</td>\n",
       "      <td>Simmel</td>\n",
       "      <td>F</td>\n",
       "    </tr>\n",
       "    <tr>\n",
       "      <th>1</th>\n",
       "      <td>10005</td>\n",
       "      <td>Kyoichi</td>\n",
       "      <td>Maliniak</td>\n",
       "      <td>M</td>\n",
       "    </tr>\n",
       "    <tr>\n",
       "      <th>2</th>\n",
       "      <td>10005</td>\n",
       "      <td>Kyoichi</td>\n",
       "      <td>Maliniak</td>\n",
       "      <td>M</td>\n",
       "    </tr>\n",
       "    <tr>\n",
       "      <th>3</th>\n",
       "      <td>10007</td>\n",
       "      <td>Tzvetan</td>\n",
       "      <td>Zielinski</td>\n",
       "      <td>F</td>\n",
       "    </tr>\n",
       "    <tr>\n",
       "      <th>4</th>\n",
       "      <td>10007</td>\n",
       "      <td>Tzvetan</td>\n",
       "      <td>Zielinski</td>\n",
       "      <td>F</td>\n",
       "    </tr>\n",
       "    <tr>\n",
       "      <th>...</th>\n",
       "      <td>...</td>\n",
       "      <td>...</td>\n",
       "      <td>...</td>\n",
       "      <td>...</td>\n",
       "    </tr>\n",
       "    <tr>\n",
       "      <th>200239</th>\n",
       "      <td>499991</td>\n",
       "      <td>Pohua</td>\n",
       "      <td>Sichman</td>\n",
       "      <td>F</td>\n",
       "    </tr>\n",
       "    <tr>\n",
       "      <th>200240</th>\n",
       "      <td>499992</td>\n",
       "      <td>Siamak</td>\n",
       "      <td>Salverda</td>\n",
       "      <td>F</td>\n",
       "    </tr>\n",
       "    <tr>\n",
       "      <th>200241</th>\n",
       "      <td>499992</td>\n",
       "      <td>Siamak</td>\n",
       "      <td>Salverda</td>\n",
       "      <td>F</td>\n",
       "    </tr>\n",
       "    <tr>\n",
       "      <th>200242</th>\n",
       "      <td>499998</td>\n",
       "      <td>Patricia</td>\n",
       "      <td>Breugel</td>\n",
       "      <td>M</td>\n",
       "    </tr>\n",
       "    <tr>\n",
       "      <th>200243</th>\n",
       "      <td>499998</td>\n",
       "      <td>Patricia</td>\n",
       "      <td>Breugel</td>\n",
       "      <td>M</td>\n",
       "    </tr>\n",
       "  </tbody>\n",
       "</table>\n",
       "<p>200244 rows × 4 columns</p>\n",
       "</div>"
      ],
      "text/plain": [
       "        N Empl    Nombre   Apellido Sexo\n",
       "0        10002   Bezalel     Simmel    F\n",
       "1        10005   Kyoichi   Maliniak    M\n",
       "2        10005   Kyoichi   Maliniak    M\n",
       "3        10007   Tzvetan  Zielinski    F\n",
       "4        10007   Tzvetan  Zielinski    F\n",
       "...        ...       ...        ...  ...\n",
       "200239  499991     Pohua    Sichman    F\n",
       "200240  499992    Siamak   Salverda    F\n",
       "200241  499992    Siamak   Salverda    F\n",
       "200242  499998  Patricia    Breugel    M\n",
       "200243  499998  Patricia    Breugel    M\n",
       "\n",
       "[200244 rows x 4 columns]"
      ]
     },
     "execution_count": 13,
     "metadata": {},
     "output_type": "execute_result"
    }
   ],
   "source": [
    "empleados=consulta_test(\"SELECT employees.emp_no,first_name,last_name,gender FROM employees inner join titles on employees.emp_no = titles.emp_no where titles.title like \\'%Staff%\\';\")\n",
    "\n",
    "titulos=[\"N Empl\",\"Nombre\",\"Apellido\",\"Sexo\"]\n",
    "pd.DataFrame(empleados,columns=titulos)\n"
   ]
  },
  {
   "cell_type": "markdown",
   "metadata": {},
   "source": [
    "5to Ejercicio\n",
    "Agregar el departamento Cienca de Datos."
   ]
  },
  {
   "cell_type": "code",
   "execution_count": 28,
   "metadata": {},
   "outputs": [],
   "source": [
    "import pymysql\n",
    "try:\n",
    "\tconexion = pymysql.connect(host='localhost',\n",
    "                             user='root',\n",
    "                             password='',\n",
    "                             db='employees')\n",
    "\ttry:\n",
    "\t\twith conexion.cursor() as cursor:\n",
    "            \n",
    "\t\t\tconsulta = \"INSERT INTO `departments`(`dept_no`, `dept_name`) VALUES (%s, %s);\"\n",
    "\t\t\t#Podemos llamar muchas veces a .execute con datos distintos\n",
    "\t\t\tcursor.execute(consulta, (\"d010\", \"Ciencia de Datos\"))\n",
    "\n",
    "\t\tconexion.commit()\n",
    "\tfinally:\n",
    "\t\tconexion.close()\n",
    "except (pymysql.err.OperationalError, pymysql.err.InternalError) as e:\n",
    "\tprint(\"Ocurrió un error al conectar: \", e)\n",
    "\n",
    "\n"
   ]
  },
  {
   "cell_type": "code",
   "execution_count": 29,
   "metadata": {},
   "outputs": [
    {
     "name": "stdout",
     "output_type": "stream",
     "text": [
      "select * from `departments`;\n",
      "------------\n",
      "TIEMPO PARA EJECUTAR CONSULTA: 0.0021483898162841797\n",
      "TIEMPO PARA DEVOLVER FILAS: 0.0\n",
      "CANTIDAD DE FILAS: 10\n",
      "------------\n"
     ]
    },
    {
     "data": {
      "text/plain": [
       "(('d010', 'Ciencia de Datos'),\n",
       " ('d009', 'Customer Service'),\n",
       " ('d005', 'Development'),\n",
       " ('d002', 'Finance'),\n",
       " ('d003', 'Human Resources'),\n",
       " ('d001', 'Marketing'),\n",
       " ('d004', 'Production'),\n",
       " ('d006', 'Quality Management'),\n",
       " ('d008', 'Research'),\n",
       " ('d007', 'Sales'))"
      ]
     },
     "execution_count": 29,
     "metadata": {},
     "output_type": "execute_result"
    }
   ],
   "source": [
    "consulta_test(\"select * from `departments`;\")"
   ]
  },
  {
   "cell_type": "markdown",
   "metadata": {},
   "source": [
    "6to Ejercicio\n",
    "Agregar el empleado \"Pepe\" y hacerlo jefe (\"manager\") del departamento Cienca de Datos."
   ]
  },
  {
   "cell_type": "code",
   "execution_count": 43,
   "metadata": {},
   "outputs": [
    {
     "name": "stdout",
     "output_type": "stream",
     "text": [
      "SELECT max(emp_no) FROM employees WHERE 1;\n",
      "------------\n",
      "TIEMPO PARA EJECUTAR CONSULTA: 0.0006732940673828125\n",
      "TIEMPO PARA DEVOLVER FILAS: 0.0\n",
      "CANTIDAD DE FILAS: 1\n",
      "------------\n"
     ]
    }
   ],
   "source": [
    "id=consulta_test(\"SELECT max(emp_no) FROM employees WHERE 1;\")\n",
    "idnuevo=id[0][0]+1\n",
    "\n",
    "import pymysql\n",
    "try:\n",
    "\tconexion = pymysql.connect(host='localhost',\n",
    "                             user='root',\n",
    "                             password='',\n",
    "                             db='employees')\n",
    "\ttry:\n",
    "\t\twith conexion.cursor() as cursor:\n",
    "            \n",
    "\t\t\tconsulta = \"INSERT INTO `employees`(`emp_no`, `birth_date`, `first_name`, `last_name`, `gender`, `hire_date`) VALUES (%s, %s, %s, %s, %s, %s);\"\n",
    "\t\t\t#Podemos llamar muchas veces a .execute con datos distintos\n",
    "\t\t\tcursor.execute(consulta, (idnuevo,\"1900-01-01\" ,\"Pepe\",\"APELLIDOPEPE\",\"M\",\"1900-01-01\"))\n",
    "\n",
    "\t\tconexion.commit()\n",
    "\tfinally:\n",
    "\t\tconexion.close()\n",
    "except (pymysql.err.OperationalError, pymysql.err.InternalError) as e:\n",
    "\tprint(\"Ocurrió un error al conectar: \", e)\n",
    "\n",
    "\n",
    "\n",
    " \n"
   ]
  },
  {
   "cell_type": "code",
   "execution_count": 45,
   "metadata": {},
   "outputs": [
    {
     "name": "stdout",
     "output_type": "stream",
     "text": [
      "SELECT * FROM employees WHERE first_name=\"PEPE\";\n",
      "------------\n",
      "TIEMPO PARA EJECUTAR CONSULTA: 1.0214104652404785\n",
      "TIEMPO PARA DEVOLVER FILAS: 0.0\n",
      "CANTIDAD DE FILAS: 1\n",
      "------------\n"
     ]
    },
    {
     "data": {
      "text/plain": [
       "((500000,\n",
       "  datetime.date(1900, 1, 1),\n",
       "  'Pepe',\n",
       "  'APELLIDOPEPE',\n",
       "  'M',\n",
       "  datetime.date(1900, 1, 1)),)"
      ]
     },
     "execution_count": 45,
     "metadata": {},
     "output_type": "execute_result"
    }
   ],
   "source": [
    "consulta_test(\"SELECT * FROM employees WHERE first_name=\\\"PEPE\\\";\")"
   ]
  },
  {
   "cell_type": "code",
   "execution_count": 46,
   "metadata": {},
   "outputs": [],
   "source": [
    "import pymysql\n",
    "try:\n",
    "\tconexion = pymysql.connect(host='localhost',\n",
    "                             user='root',\n",
    "                             password='',\n",
    "                             db='employees')\n",
    "\ttry:\n",
    "\t\twith conexion.cursor() as cursor:\n",
    "            \n",
    "\t\t\tconsulta = \"INSERT INTO `dept_manager`(`emp_no`, `dept_no`, `from_date`, `to_date`) VALUES (%s, %s, %s, %s);\"\n",
    "\t\t\t#Podemos llamar muchas veces a .execute con datos distintos\n",
    "\t\t\tcursor.execute(consulta, (idnuevo,\"d010\" ,\"1900-01-01\",\"9999-01-01\"))\n",
    "\n",
    "\t\tconexion.commit()\n",
    "\tfinally:\n",
    "\t\tconexion.close()\n",
    "except (pymysql.err.OperationalError, pymysql.err.InternalError) as e:\n",
    "\tprint(\"Ocurrió un error al conectar: \", e)"
   ]
  },
  {
   "cell_type": "code",
   "execution_count": 47,
   "metadata": {},
   "outputs": [
    {
     "name": "stdout",
     "output_type": "stream",
     "text": [
      "SELECT * FROM dept_manager WHERE dept_no=\"d010\";\n",
      "------------\n",
      "TIEMPO PARA EJECUTAR CONSULTA: 0.02413654327392578\n",
      "TIEMPO PARA DEVOLVER FILAS: 0.0\n",
      "CANTIDAD DE FILAS: 1\n",
      "------------\n"
     ]
    },
    {
     "data": {
      "text/plain": [
       "((500000, 'd010', datetime.date(1900, 1, 1), datetime.date(9999, 1, 1)),)"
      ]
     },
     "execution_count": 47,
     "metadata": {},
     "output_type": "execute_result"
    }
   ],
   "source": [
    "consulta_test(\"SELECT * FROM dept_manager WHERE dept_no=\\\"d010\\\";\")"
   ]
  },
  {
   "cell_type": "markdown",
   "metadata": {},
   "source": [
    "7mo Ejercicio\n",
    "Borrar el empleado \"Pepe\"."
   ]
  },
  {
   "cell_type": "code",
   "execution_count": 49,
   "metadata": {},
   "outputs": [],
   "source": [
    "import pymysql\n",
    "try:\n",
    "\tconexion = pymysql.connect(host='localhost',\n",
    "                             user='root',\n",
    "                             password='',\n",
    "                             db='employees')\n",
    "\ttry:\n",
    "\t\twith conexion.cursor() as cursor:\n",
    "\t\t\t\n",
    "\t\t\tconsulta = \"DELETE FROM employees WHERE first_name = %s;\"\n",
    "\t\t\tnombre = \"Pepe\"\n",
    "\t\t\tcursor.execute(consulta, (nombre))\n",
    "\n",
    "\t\t# No olvidemos hacer commit cuando hacemos un cambio a la BD\n",
    "\t\tconexion.commit()\n",
    "\tfinally:\n",
    "\t\tconexion.close()\n",
    "\t\n",
    "except (pymysql.err.OperationalError, pymysql.err.InternalError) as e:\n",
    "\tprint(\"Ocurrió un error al conectar: \", e)"
   ]
  },
  {
   "cell_type": "code",
   "execution_count": 51,
   "metadata": {},
   "outputs": [
    {
     "name": "stdout",
     "output_type": "stream",
     "text": [
      "SELECT * FROM employees WHERE first_name=\"Pepe\";\n",
      "------------\n",
      "TIEMPO PARA EJECUTAR CONSULTA: 0.9311678409576416\n",
      "TIEMPO PARA DEVOLVER FILAS: 0.0\n",
      "CANTIDAD DE FILAS: 0\n",
      "------------\n"
     ]
    },
    {
     "data": {
      "text/plain": [
       "()"
      ]
     },
     "execution_count": 51,
     "metadata": {},
     "output_type": "execute_result"
    }
   ],
   "source": [
    "consulta_test(\"SELECT * FROM employees WHERE first_name=\\\"Pepe\\\";\")"
   ]
  },
  {
   "cell_type": "markdown",
   "metadata": {},
   "source": [
    "8vo Ejercicio\n",
    "Obtener el promedio de salarios por departamento.\n",
    "\n"
   ]
  },
  {
   "cell_type": "code",
   "execution_count": 52,
   "metadata": {},
   "outputs": [
    {
     "name": "stdout",
     "output_type": "stream",
     "text": [
      "SELECT departments.dept_name ,avg(salaries.salary) as SUELDO_PROMEDIO FROM `departments`  LEFT JOIN `dept_emp` ON `dept_emp`.`dept_no` = `departments`.`dept_no` LEFT JOIN `employees` ON `dept_emp`.`emp_no` = `employees`.`emp_no` LEFT JOIN `salaries` ON `salaries`.`emp_no` = `employees`.`emp_no` group by departments.dept_name;\n",
      "------------\n",
      "TIEMPO PARA EJECUTAR CONSULTA: 16.5998637676239\n",
      "TIEMPO PARA DEVOLVER FILAS: 0.0\n",
      "CANTIDAD DE FILAS: 10\n",
      "------------\n"
     ]
    },
    {
     "data": {
      "text/plain": [
       "(('Ciencia de Datos', None),\n",
       " ('Customer Service', Decimal('58770.3665')),\n",
       " ('Development', Decimal('59478.9012')),\n",
       " ('Finance', Decimal('70489.3649')),\n",
       " ('Human Resources', Decimal('55574.8794')),\n",
       " ('Marketing', Decimal('71913.2000')),\n",
       " ('Production', Decimal('59605.4825')),\n",
       " ('Quality Management', Decimal('57251.2719')),\n",
       " ('Research', Decimal('59665.1817')),\n",
       " ('Sales', Decimal('80667.6058')))"
      ]
     },
     "execution_count": 52,
     "metadata": {},
     "output_type": "execute_result"
    }
   ],
   "source": [
    "consulta= \"SELECT departments.dept_name ,avg(salaries.salary) as SUELDO_PROMEDIO FROM `departments`  LEFT JOIN `dept_emp` ON `dept_emp`.`dept_no` = `departments`.`dept_no` LEFT JOIN `employees` ON `dept_emp`.`emp_no` = `employees`.`emp_no` LEFT JOIN `salaries` ON `salaries`.`emp_no` = `employees`.`emp_no` group by departments.dept_name;\"\n",
    "consulta_test(consulta)"
   ]
  },
  {
   "cell_type": "code",
   "execution_count": null,
   "metadata": {},
   "outputs": [],
   "source": []
  }
 ],
 "metadata": {
  "kernelspec": {
   "display_name": "Python 3",
   "language": "python",
   "name": "python3"
  },
  "language_info": {
   "codemirror_mode": {
    "name": "ipython",
    "version": 3
   },
   "file_extension": ".py",
   "mimetype": "text/x-python",
   "name": "python",
   "nbconvert_exporter": "python",
   "pygments_lexer": "ipython3",
   "version": "3.6.10"
  }
 },
 "nbformat": 4,
 "nbformat_minor": 4
}
