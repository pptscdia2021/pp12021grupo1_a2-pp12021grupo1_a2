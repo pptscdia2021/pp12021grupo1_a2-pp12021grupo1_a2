{
 "cells": [
  {
   "cell_type": "markdown",
   "id": "c3226d1e",
   "metadata": {},
   "source": [
    "# Ejercico 9vo"
   ]
  },
  {
   "cell_type": "code",
   "execution_count": 2,
   "id": "6e9cf257",
   "metadata": {},
   "outputs": [
    {
     "data": {
      "text/plain": [
       "(96453, 12)"
      ]
     },
     "execution_count": 2,
     "metadata": {},
     "output_type": "execute_result"
    }
   ],
   "source": [
    "#importarción de librerias\n",
    "import pymongo\n",
    "import pandas as pd\n",
    "\n",
    "#Con client nos conectamos a MongoDB\n",
    "client = pymongo.MongoClient('localhost',27017)\n",
    "\n",
    "#Siguiente, vamos a crear una BDD denomida \"weatherHistory\"\n",
    "db= client['weatherHistory']\n",
    "#Si colocamos \"show databases\" en el cmd no se mostrará debido a que no contiene aún ningun documento (dato)\n",
    "\n",
    "#Se crea una colección para esta BDD que se llamará weatherHistory\n",
    "collection = db['weatherHistory']\n",
    "\n",
    "#Para cargar los datos del archivo .csv debemos crear un dataframe con este archivo\n",
    "df = pd.read_csv(\"weatherHistory.csv\")\n",
    "\n",
    "#Ahora lo que debemos hacer es que este dataframe se transforme en una lista de diccionarios\n",
    "data = df.to_dict(orient = \"records\")\n",
    "#Hasta el momento con \"show database\" no observaremos la BDD, porque debemos insertar la coleción creada\n",
    "collection.insert_many(data)\n",
    "#Ahora con \"show databases\" desde la consola podrémos observar que ya aparece la base de datos \"weatherHistory\"\n",
    "\n",
    "#Con esto podremos ver la cantidad de filas y columnas\n",
    "df.shape ()"
   ]
  },
  {
   "cell_type": "markdown",
   "id": "b47edbcc",
   "metadata": {},
   "source": [
    "# Ejercicio 10mo"
   ]
  },
  {
   "cell_type": "code",
   "execution_count": 3,
   "id": "45cf1325",
   "metadata": {},
   "outputs": [
    {
     "data": {
      "text/plain": [
       "96453"
      ]
     },
     "execution_count": 3,
     "metadata": {},
     "output_type": "execute_result"
    }
   ],
   "source": [
    "collection.estimated_document_count()"
   ]
  },
  {
   "cell_type": "code",
   "execution_count": null,
   "id": "e8f240b3",
   "metadata": {},
   "outputs": [],
   "source": []
  }
 ],
 "metadata": {
  "kernelspec": {
   "display_name": "Python 3 (ipykernel)",
   "language": "python",
   "name": "python3"
  },
  "language_info": {
   "codemirror_mode": {
    "name": "ipython",
    "version": 3
   },
   "file_extension": ".py",
   "mimetype": "text/x-python",
   "name": "python",
   "nbconvert_exporter": "python",
   "pygments_lexer": "ipython3",
   "version": "3.8.8"
  }
 },
 "nbformat": 4,
 "nbformat_minor": 5
}
